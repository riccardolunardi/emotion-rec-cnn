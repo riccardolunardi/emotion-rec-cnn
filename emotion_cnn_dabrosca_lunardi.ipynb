{
  "nbformat": 4,
  "nbformat_minor": 0,
  "metadata": {
    "colab": {
      "name": "emotion-cnn-dabrosca-lunardi.ipynb",
      "provenance": [],
      "collapsed_sections": [
        "GqWxVIxakBM7"
      ]
    },
    "kernelspec": {
      "name": "python3",
      "display_name": "Python 3"
    },
    "language_info": {
      "name": "python"
    },
    "accelerator": "GPU"
  },
  "cells": [
    {
      "cell_type": "markdown",
      "metadata": {
        "id": "KIDMakPKj5OF"
      },
      "source": [
        "# Lunni"
      ]
    },
    {
      "cell_type": "code",
      "metadata": {
        "id": "3aBuGLhoeQfE"
      },
      "source": [
        ""
      ],
      "execution_count": null,
      "outputs": []
    },
    {
      "cell_type": "markdown",
      "metadata": {
        "id": "XDZZQcECj2VL"
      },
      "source": [
        "# Gian"
      ]
    },
    {
      "cell_type": "markdown",
      "metadata": {
        "id": "GqWxVIxakBM7"
      },
      "source": [
        "## Data Preprocessing\n",
        "\n",
        "Il dataset, prima di tutto, va opportunamente elaborato per occuparsi di eventuali dati duplicati o mancanti. Inoltre dovremo separare i dati per ottenere un training e un test set.\n",
        "Gli step che seguiremo saranno i seguenti:\n",
        "1. Caricare i dati\n",
        "2. Gestire i dati mancanti\n",
        "3. Eliminare le features ridondanti\n",
        "4. Dividere il dataset in training e test set\n",
        "5. Normalizzare e standardizzare i dati"
      ]
    },
    {
      "cell_type": "markdown",
      "metadata": {
        "id": "-Eoqv9IokKVC"
      },
      "source": [
        "### Definizione variabili"
      ]
    },
    {
      "cell_type": "markdown",
      "metadata": {
        "id": "Z1bpGRBckN8e"
      },
      "source": [
        "## Caricamento dei dati\n",
        "\n",
        "Tramite `pandas` e il dataset fornito in .csv, carichiamo i dati all'interno di un dataset."
      ]
    },
    {
      "cell_type": "markdown",
      "metadata": {
        "id": "nUNO38szkXau"
      },
      "source": [
        "### Gestione dei dati mancanti\n",
        "\n",
        "Con un `for-each` controlliamo, per ogni colonna, quanti sono i valori mancanti."
      ]
    },
    {
      "cell_type": "markdown",
      "metadata": {
        "id": "AHRZEl-Bka1a"
      },
      "source": [
        "### Divisione del data set in training e test set\n",
        "\n",
        "Si vuole dividere il data set in 3 parti:\n",
        "1. Training set, comprendente tutte le righe tranne le ultime 168\n",
        "2. Test set, comprendente solo le ultime 168 righe"
      ]
    },
    {
      "cell_type": "markdown",
      "metadata": {
        "id": "fZBBY8Yvkfwl"
      },
      "source": [
        "### Standardizzazione e normalizzazione dei dati\n",
        "\n",
        "Per `facilitare la fase di apprendimento` si scalano i dati del dataset."
      ]
    }
  ]
}