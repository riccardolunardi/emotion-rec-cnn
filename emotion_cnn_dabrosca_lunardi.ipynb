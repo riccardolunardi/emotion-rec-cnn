{
  "cells": [
    {
      "cell_type": "markdown",
      "metadata": {
        "id": "GqWxVIxakBM7"
      },
      "source": [
        "# Data Preprocessing\n",
        "\n",
        "Il dataset, prima di tutto, va opportunamente elaborato per occuparsi di eventuali dati duplicati o mancanti. Inoltre dovremo separare i dati per ottenere un training e un test set.\n",
        "Gli step che seguiremo saranno i seguenti:\n",
        "1. Caricare i dati\n",
        "2. Gestire i dati mancanti\n",
        "3. Eliminare le features ridondanti\n",
        "4. Dividere il dataset in training e test set\n",
        "5. Normalizzare e standardizzare i dati"
      ]
    },
    {
      "cell_type": "markdown",
      "metadata": {
        "id": "-Eoqv9IokKVC"
      },
      "source": [
        "### Definizione variabili\n",
        "\n",
        "Per facilità d'utilizzo si esplicitano qui i `valori delle variabili` del modello."
      ]
    },
    {
      "cell_type": "code",
      "execution_count": 38,
      "metadata": {},
      "outputs": [],
      "source": [
        "# Lunghezza percentuale del dataset di allenamento, il test è definito di conseguenza\n",
        "len_percentage_training = 80 / 100\n",
        "\n",
        "numero_di_features = 2\n",
        "output_CNN_1 = 20\n",
        "kernel_size_1 = 2"
      ]
    },
    {
      "cell_type": "markdown",
      "metadata": {},
      "source": [
        "### Librerie\n",
        "\n",
        "Allo stesso modo si inseriscono qui tutte le `librerie usate` per il progetto"
      ]
    },
    {
      "cell_type": "code",
      "execution_count": 39,
      "metadata": {},
      "outputs": [],
      "source": [
        "import torch\n",
        "import pandas as pd\n",
        "import numpy as np\n",
        "import matplotlib.pyplot as plt"
      ]
    },
    {
      "cell_type": "markdown",
      "metadata": {
        "id": "Z1bpGRBckN8e"
      },
      "source": [
        "### Caricamento dei dati\n",
        "\n",
        "Tramite `pandas` e il dataset fornito in .csv, carichiamo i dati all'interno di un dataset."
      ]
    },
    {
      "cell_type": "code",
      "execution_count": 40,
      "metadata": {},
      "outputs": [
        {
          "data": {
            "text/html": [
              "<div>\n",
              "<style scoped>\n",
              "    .dataframe tbody tr th:only-of-type {\n",
              "        vertical-align: middle;\n",
              "    }\n",
              "\n",
              "    .dataframe tbody tr th {\n",
              "        vertical-align: top;\n",
              "    }\n",
              "\n",
              "    .dataframe thead th {\n",
              "        text-align: right;\n",
              "    }\n",
              "</style>\n",
              "<table border=\"1\" class=\"dataframe\">\n",
              "  <thead>\n",
              "    <tr style=\"text-align: right;\">\n",
              "      <th></th>\n",
              "      <th>emotion</th>\n",
              "      <th>pixels</th>\n",
              "      <th>Usage</th>\n",
              "    </tr>\n",
              "  </thead>\n",
              "  <tbody>\n",
              "    <tr>\n",
              "      <th>0</th>\n",
              "      <td>0</td>\n",
              "      <td>70 80 82 72 58 58 60 63 54 58 60 48 89 115 121...</td>\n",
              "      <td>Training</td>\n",
              "    </tr>\n",
              "    <tr>\n",
              "      <th>1</th>\n",
              "      <td>0</td>\n",
              "      <td>151 150 147 155 148 133 111 140 170 174 182 15...</td>\n",
              "      <td>Training</td>\n",
              "    </tr>\n",
              "    <tr>\n",
              "      <th>2</th>\n",
              "      <td>2</td>\n",
              "      <td>231 212 156 164 174 138 161 173 182 200 106 38...</td>\n",
              "      <td>Training</td>\n",
              "    </tr>\n",
              "    <tr>\n",
              "      <th>3</th>\n",
              "      <td>4</td>\n",
              "      <td>24 32 36 30 32 23 19 20 30 41 21 22 32 34 21 1...</td>\n",
              "      <td>Training</td>\n",
              "    </tr>\n",
              "    <tr>\n",
              "      <th>4</th>\n",
              "      <td>6</td>\n",
              "      <td>4 0 0 0 0 0 0 0 0 0 0 0 3 15 23 28 48 50 58 84...</td>\n",
              "      <td>Training</td>\n",
              "    </tr>\n",
              "    <tr>\n",
              "      <th>...</th>\n",
              "      <td>...</td>\n",
              "      <td>...</td>\n",
              "      <td>...</td>\n",
              "    </tr>\n",
              "    <tr>\n",
              "      <th>35882</th>\n",
              "      <td>6</td>\n",
              "      <td>50 36 17 22 23 29 33 39 34 37 37 37 39 43 48 5...</td>\n",
              "      <td>PrivateTest</td>\n",
              "    </tr>\n",
              "    <tr>\n",
              "      <th>35883</th>\n",
              "      <td>3</td>\n",
              "      <td>178 174 172 173 181 188 191 194 196 199 200 20...</td>\n",
              "      <td>PrivateTest</td>\n",
              "    </tr>\n",
              "    <tr>\n",
              "      <th>35884</th>\n",
              "      <td>0</td>\n",
              "      <td>17 17 16 23 28 22 19 17 25 26 20 24 31 19 27 9...</td>\n",
              "      <td>PrivateTest</td>\n",
              "    </tr>\n",
              "    <tr>\n",
              "      <th>35885</th>\n",
              "      <td>3</td>\n",
              "      <td>30 28 28 29 31 30 42 68 79 81 77 67 67 71 63 6...</td>\n",
              "      <td>PrivateTest</td>\n",
              "    </tr>\n",
              "    <tr>\n",
              "      <th>35886</th>\n",
              "      <td>2</td>\n",
              "      <td>19 13 14 12 13 16 21 33 50 57 71 84 97 108 122...</td>\n",
              "      <td>PrivateTest</td>\n",
              "    </tr>\n",
              "  </tbody>\n",
              "</table>\n",
              "<p>35887 rows × 3 columns</p>\n",
              "</div>"
            ],
            "text/plain": [
              "       emotion                                             pixels        Usage\n",
              "0            0  70 80 82 72 58 58 60 63 54 58 60 48 89 115 121...     Training\n",
              "1            0  151 150 147 155 148 133 111 140 170 174 182 15...     Training\n",
              "2            2  231 212 156 164 174 138 161 173 182 200 106 38...     Training\n",
              "3            4  24 32 36 30 32 23 19 20 30 41 21 22 32 34 21 1...     Training\n",
              "4            6  4 0 0 0 0 0 0 0 0 0 0 0 3 15 23 28 48 50 58 84...     Training\n",
              "...        ...                                                ...          ...\n",
              "35882        6  50 36 17 22 23 29 33 39 34 37 37 37 39 43 48 5...  PrivateTest\n",
              "35883        3  178 174 172 173 181 188 191 194 196 199 200 20...  PrivateTest\n",
              "35884        0  17 17 16 23 28 22 19 17 25 26 20 24 31 19 27 9...  PrivateTest\n",
              "35885        3  30 28 28 29 31 30 42 68 79 81 77 67 67 71 63 6...  PrivateTest\n",
              "35886        2  19 13 14 12 13 16 21 33 50 57 71 84 97 108 122...  PrivateTest\n",
              "\n",
              "[35887 rows x 3 columns]"
            ]
          },
          "execution_count": 40,
          "metadata": {},
          "output_type": "execute_result"
        }
      ],
      "source": [
        "# IN_COLAB = 'google.colab' in sys.modules\n",
        "\n",
        "# if True:\n",
        "#     import kaggle\n",
        "#     kaggle.api.authenticate()\n",
        "#     kaggle.api.dataset_download_files('facial-expression-recognitionferchallenge', path='fer2013/fer2013/fer2013.csv', unzip=True)\n",
        "\n",
        "# else:\n",
        "#     fer2013 = pd.read_csv('files/fer2013.csv')\n",
        "\n",
        "fer2013 = pd.read_csv('files/fer2013.csv')\n",
        "fer2013"
      ]
    },
    {
      "cell_type": "markdown",
      "metadata": {},
      "source": [
        "### Eliminazione della colonna \"Usage\""
      ]
    },
    {
      "cell_type": "code",
      "execution_count": 41,
      "metadata": {},
      "outputs": [
        {
          "name": "stdout",
          "output_type": "stream",
          "text": [
            "['emotion', 'pixels', 'Usage']\n",
            "['emotion', 'pixels']\n"
          ]
        }
      ],
      "source": [
        "print(list(fer2013.columns))\n",
        "fer2013 = fer2013.drop(['Usage'], axis=1)\n",
        "print(list(fer2013.columns))"
      ]
    },
    {
      "cell_type": "markdown",
      "metadata": {
        "id": "AHRZEl-Bka1a"
      },
      "source": [
        "### Divisione del data set in training e test set\n",
        "\n",
        "Si vuole dividere il data set in 2 parti:\n",
        "1. Training set\n",
        "2. Test set"
      ]
    },
    {
      "cell_type": "code",
      "execution_count": 42,
      "metadata": {},
      "outputs": [
        {
          "name": "stdout",
          "output_type": "stream",
          "text": [
            "Lunghezza percentuale di:\n",
            "training_set 80%\n",
            "test_set 20%\n"
          ]
        }
      ],
      "source": [
        "training_set, test_set = np.split(fer2013, [ int(len_percentage_training * len(fer2013)) ] )\n",
        "\n",
        "print(\"Lunghezza percentuale di:\")\n",
        "print(\"training_set {:.0%}\".format( len(training_set) / len(fer2013) ))\n",
        "print(\"test_set {:.0%}\".format( len(test_set) / len(fer2013) ))"
      ]
    },
    {
      "cell_type": "markdown",
      "metadata": {},
      "source": [
        "### Mostrare le immagini"
      ]
    },
    {
      "cell_type": "code",
      "execution_count": 31,
      "metadata": {},
      "outputs": [
        {
          "data": {
            "image/png": "[encoded data removed]",
            "text/plain": [
              "<Figure size 432x288 with 1 Axes>"
            ]
          },
          "metadata": {
            "needs_background": "light"
          },
          "output_type": "display_data"
        }
      ],
      "source": [
        "def show(img):\n",
        "\n",
        "    img = img.split(\" \")\n",
        "    img = np.array([float(item) for item in img])\n",
        "    showImg = img.reshape(48,48)\n",
        "    \n",
        "    plt.axis(\"off\")\n",
        "    plt.imshow(showImg, cmap = 'gray')\n",
        "\n",
        "# show(test_set.pixels.values[0])"
      ]
    },
    {
      "cell_type": "markdown",
      "metadata": {
        "id": "fZBBY8Yvkfwl"
      },
      "source": [
        "### Normalizzazione dei dati"
      ]
    },
    {
      "cell_type": "code",
      "execution_count": null,
      "metadata": {},
      "outputs": [],
      "source": []
    },
    {
      "cell_type": "markdown",
      "metadata": {},
      "source": [
        "# Modello con CNN"
      ]
    },
    {
      "cell_type": "markdown",
      "metadata": {},
      "source": [
        "### VGG16 Schema"
      ]
    },
    {
      "cell_type": "markdown",
      "metadata": {},
      "source": [
        "<img src=\"https://media.geeksforgeeks.org/wp-content/uploads/20200219152327/conv-layers-vgg16.jpg\" alt=\"drawing\" width=\"500\"/>"
      ]
    },
    {
      "cell_type": "markdown",
      "metadata": {},
      "source": [
        "### Definizione del modello"
      ]
    },
    {
      "cell_type": "code",
      "execution_count": null,
      "metadata": {},
      "outputs": [],
      "source": [
        "import torch\n",
        "\n",
        "class Emotion_CNN(torch.nn.Module):\n",
        "    def __init__(self):\n",
        "        super(Emotion_CNN, self).__init__()\n",
        "    \n",
        "        self.l_cnn_1 = torch.nn.Conv2d()\n",
        "        self.l_norm_1 = torch.nn.BatchNorm2d()\n",
        "        self.l_relu_1 = torch.nn.ReLU()\n",
        "        self.l_pool_1 = torch.nn.MaxPool2d()\n",
        "\n",
        "        self.l_cnn_2 = torch.nn.Conv2d()\n",
        "        self.l_norm_2 = torch.nn.BatchNorm2d()\n",
        "        self.l_relu_2 = torch.nn.ReLU()\n",
        "        self.l_pool_2 = torch.nn.MaxPool2d()\n",
        "\n",
        "        self.l_linear = torch.nn.Linear()\n",
        "\n",
        "    def forward(self, x):        \n",
        "        batch_size, seq_len, _ = x.size()\n",
        "        lstm_out, self.hidden = self.l_lstm(x)\n",
        "        x = lstm_out.contiguous().view(batch_size,-1)\n",
        "        return self.l_linear(x)"
      ]
    },
    {
      "cell_type": "markdown",
      "metadata": {},
      "source": [
        "[Sito da cui ho preso il modello successivo](https://www.analyticsvidhya.com/blog/2019/10/building-image-classification-models-cnn-pytorch/)"
      ]
    },
    {
      "cell_type": "code",
      "execution_count": null,
      "metadata": {},
      "outputs": [],
      "source": [
        "# class Net(Module):   \n",
        "#     def __init__(self):\n",
        "#         super(Net, self).__init__()\n",
        "#\n",
        "#         self.cnn_layers = Sequential(\n",
        "#             # Defining a 2D convolution layer\n",
        "#             Conv2d(1, 4, kernel_size=3, stride=1, padding=1),\n",
        "#             BatchNorm2d(4),\n",
        "#             ReLU(inplace=True),\n",
        "#             MaxPool2d(kernel_size=2, stride=2),\n",
        "#             # Defining another 2D convolution layer\n",
        "#             Conv2d(4, 4, kernel_size=3, stride=1, padding=1),\n",
        "#             BatchNorm2d(4),\n",
        "#             ReLU(inplace=True),\n",
        "#             MaxPool2d(kernel_size=2, stride=2),\n",
        "#         )\n",
        "# \n",
        "#         self.linear_layers = Sequential(\n",
        "#             Linear(4 * 7 * 7, 10)\n",
        "#         )\n",
        "# \n",
        "#     # Defining the forward pass    \n",
        "#     def forward(self, x):\n",
        "#         x = self.cnn_layers(x)\n",
        "#         x = x.view(x.size(0), -1)\n",
        "#         x = self.linear_layers(x)\n",
        "#         return x"
      ]
    },
    {
      "cell_type": "markdown",
      "metadata": {},
      "source": [
        "### Istanza del modello\n",
        "\n",
        "Qua Lunni dobbiamo fare attenzione a `impostare il device in base all'ambiente` (Colab o locale)"
      ]
    },
    {
      "cell_type": "code",
      "execution_count": null,
      "metadata": {},
      "outputs": [],
      "source": [
        "import torch\n",
        "\n",
        "#device = torch.device(\"cuda\" if torch.cuda.is_available() else \"cpu\")\n",
        "device = torch.device(\"cpu\")\n",
        "model = Emotion_CNN().to(device)\n",
        "optimizer = torch.optim.Adam(model.parameters(), lr=1e-5)\n",
        "criterion = torch.nn.MSELoss()\n",
        "device"
      ]
    },
    {
      "cell_type": "markdown",
      "metadata": {},
      "source": [
        "### Divisione in Tensori"
      ]
    },
    {
      "cell_type": "markdown",
      "metadata": {},
      "source": [
        "### Creazione dei DataLoader"
      ]
    },
    {
      "cell_type": "markdown",
      "metadata": {},
      "source": [
        "### Definizione di Training e Validation"
      ]
    },
    {
      "cell_type": "markdown",
      "metadata": {},
      "source": [
        "### Allenamento e Validazione del modello"
      ]
    },
    {
      "cell_type": "markdown",
      "metadata": {},
      "source": [
        "### Visualizzazione grafico della loss"
      ]
    },
    {
      "cell_type": "markdown",
      "metadata": {},
      "source": [
        "### Salva stato del modello"
      ]
    },
    {
      "cell_type": "markdown",
      "metadata": {},
      "source": [
        "### Carica stato del modello"
      ]
    },
    {
      "cell_type": "markdown",
      "metadata": {},
      "source": [
        "# Predizione e valutazione del modello"
      ]
    },
    {
      "cell_type": "markdown",
      "metadata": {},
      "source": [
        "### Classificazione di Test"
      ]
    },
    {
      "cell_type": "markdown",
      "metadata": {},
      "source": [
        "### Valutazione del modello"
      ]
    }
  ],
  "metadata": {
    "accelerator": "GPU",
    "colab": {
      "collapsed_sections": [
        "GqWxVIxakBM7"
      ],
      "name": "emotion-cnn-dabrosca-lunardi.ipynb",
      "provenance": []
    },
    "kernelspec": {
      "display_name": "Python 3",
      "name": "python3"
    },
    "language_info": {
      "codemirror_mode": {
        "name": "ipython",
        "version": 3
      },
      "file_extension": ".py",
      "mimetype": "text/x-python",
      "name": "python",
      "nbconvert_exporter": "python",
      "pygments_lexer": "ipython3",
      "version": "3.8.9"
    }
  },
  "nbformat": 4,
  "nbformat_minor": 0
}
